{
 "cells": [
  {
   "cell_type": "markdown",
   "id": "a75c1b9a-8949-4466-85c5-ba98b55fab3e",
   "metadata": {},
   "source": [
    "# Final Project Preliminary Proposal\n",
    "## Exploring Barriers to Civic Engagement Among Seattle's Immigrant and Refugee Population\n",
    "\n",
    "In recent years, the United States has experienced a historically high influx of immigrants from around the globe. According to the Migration Policy Institute, more than 44.9 million immigrants were reported to be living in the United States in 2019. The current mass immigration is also unique in its demographics compared to those in the past. Whereas immigration to America in the mid-1900s had largely brought in individuals from Europe, those who are immigrating today are from Latin American and Asian origins. With the country's introduction to a massive new population of diverse backgrounds, it is of great pertinance that their integration to United States is well-facilitated. One essential facet of integrating immigrants to the United States is their active civic engagement. Civic engagement is vital to the protection of the rights and values of each unique peoples that comprise the communities within the country. A practical step towards ensuring the civic engagement among immigrants is to seek insight into the perspectives of the individuals that comprise these groups. The hope is that by acquiring a better understanding the attitudes of immigrants in engaging in civic activities, local governmments can create more effective mechanisms to support their particpation. \n",
    "\n",
    "The data I will use in my analysis is a [dataset](https://data.seattle.gov/Community/Seattle-Votes-Survey-Data-from-5-224-immigrant-and/y5cf-gy2p) comprised of survey data from 5,224 immigrants and refugees living in Seattle. The data was published by the City of Seattle and the work is in a public domain. The reason I chose to work with this particular dataset is that the survey from which the data was collected contains questions inquiring on the motivations behind why the participants choose to vote or not vote. On the other hand, certain aspects of the manner in which this data was collected raises some potential ethical concerns. For one, the survey the participants were tasked to complete is written in English, and many participants indicated that the language that they are most comfortable with is not English. This raises the concern of instances where partcipants may have misinterpreted some of the survey questions, which could have resulted in discrepancies between their responses and their actual perspectives. Similarly, while most questions where in the form of multiple choice, some required participants to write-out their answers in English. Again, this opens the possibility that these written answers may be not exactly representative of what the partcipant was intending to convey. \n",
    "\n",
    "In regards to unknown and dependencies, my ability to complete this project is highly reliant on me allocating sufficient time through the rest of the quarter to work on this analysis. It will be vital for me to organize a work plan from here on out that appropriately paces my progress towards completing the project. This is especially important given the other coursework I will have to balance on top of this assignment. In speaking of unknowns, this preliminary assignment will actually be submitted past the deadline because I had unexpectedly caught covid on May 5th. However, despite this unforeseen setback, I expect that I will fully be able to complete this project by the end of the quarter."
   ]
  },
  {
   "cell_type": "markdown",
   "id": "69f4a667-8e79-4738-a007-040a00749f3b",
   "metadata": {},
   "source": [
    "## Research Questions\n",
    "\n",
    "* How does each immigrant group compare in regards to how much of a difference they believe they can make in their communities?\n",
    "* What are the main sources of election-related news for immigrants?\n",
    "* Which immigrant groups have the most difficulty in finding election news in their preferred language?\n",
    "* What are the reasons that immigrants are not voting? "
   ]
  },
  {
   "cell_type": "markdown",
   "id": "37ac4975-cdae-43ab-bc01-4bda6dffcc58",
   "metadata": {},
   "source": [
    "## Background/Related Works\n",
    "\n",
    "There have been multiple studies conducted in the past that have similarly explored the motives and perspectives behind immigrants' contribution to their communities. For instance, a study published by the International Society for Third Sector Research conducted a survey on a sample of 54 immigrants. From their study, the researchers found common themes that arose when interviewing their sample participants. Many of the participants were driven to contribute to their community by a desire to establish and ethnic connection, a sense of duty/obligation, and using contribution as a measure of success. "
   ]
  },
  {
   "cell_type": "markdown",
   "id": "12b605a4-eb58-4025-8403-3e60c9f3768b",
   "metadata": {},
   "source": [
    "## Methodology\n",
    "\n",
    "I will calculate numerous summary statistics to answer the various research questions that I plan to explore in my analysis. These summary statistics will be visually represented as bar plots and other appropriate graphs. "
   ]
  },
  {
   "cell_type": "code",
   "execution_count": null,
   "id": "7dac310f-ac44-40fd-a86a-23807d0006ea",
   "metadata": {},
   "outputs": [],
   "source": []
  }
 ],
 "metadata": {
  "kernelspec": {
   "display_name": "Python 3 (ipykernel)",
   "language": "python",
   "name": "python3"
  },
  "language_info": {
   "codemirror_mode": {
    "name": "ipython",
    "version": 3
   },
   "file_extension": ".py",
   "mimetype": "text/x-python",
   "name": "python",
   "nbconvert_exporter": "python",
   "pygments_lexer": "ipython3",
   "version": "3.9.7"
  }
 },
 "nbformat": 4,
 "nbformat_minor": 5
}
